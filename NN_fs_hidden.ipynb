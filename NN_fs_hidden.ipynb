{
 "cells": [
  {
   "cell_type": "code",
   "execution_count": 1,
   "id": "9248d430",
   "metadata": {},
   "outputs": [],
   "source": [
    "from keras.datasets import mnist"
   ]
  },
  {
   "cell_type": "code",
   "execution_count": 2,
   "id": "72f9d407",
   "metadata": {},
   "outputs": [],
   "source": [
    "(x_train, y_train), (x_test, y_test) = mnist.load_data()\n"
   ]
  },
  {
   "cell_type": "code",
   "execution_count": 3,
   "id": "580bcee7",
   "metadata": {},
   "outputs": [],
   "source": [
    "x_train_flat = x_train.reshape(x_train.shape[0], 28*28)\n",
    "x_test_flat = x_test.reshape(x_test.shape[0], 28*28)\n"
   ]
  },
  {
   "cell_type": "code",
   "execution_count": 4,
   "id": "ca841927",
   "metadata": {},
   "outputs": [
    {
     "ename": "NameError",
     "evalue": "name 'pd' is not defined",
     "output_type": "error",
     "traceback": [
      "\u001b[1;31m---------------------------------------------------------------------------\u001b[0m",
      "\u001b[1;31mNameError\u001b[0m                                 Traceback (most recent call last)",
      "Cell \u001b[1;32mIn[4], line 1\u001b[0m\n\u001b[1;32m----> 1\u001b[0m train_df \u001b[38;5;241m=\u001b[39m pd\u001b[38;5;241m.\u001b[39mDataFrame(x_train_flat)\n\u001b[0;32m      2\u001b[0m train_df[\u001b[38;5;124m'\u001b[39m\u001b[38;5;124mlabel\u001b[39m\u001b[38;5;124m'\u001b[39m] \u001b[38;5;241m=\u001b[39m y_train\n",
      "\u001b[1;31mNameError\u001b[0m: name 'pd' is not defined"
     ]
    }
   ],
   "source": [
    "train_df = pd.DataFrame(x_train_flat)\n",
    "train_df['label'] = y_train"
   ]
  },
  {
   "cell_type": "code",
   "execution_count": null,
   "id": "4cde9ae9",
   "metadata": {},
   "outputs": [],
   "source": [
    "train_df = train_df[['label'] + [col for col in train_df.columns if col != 'label']]\n"
   ]
  },
  {
   "cell_type": "code",
   "execution_count": 1,
   "id": "ba950dd2",
   "metadata": {},
   "outputs": [],
   "source": [
    "import numpy as np \n",
    "import pandas as pd"
   ]
  },
  {
   "cell_type": "code",
   "execution_count": 2,
   "id": "e220f20f",
   "metadata": {},
   "outputs": [],
   "source": [
    "import matplotlib.pyplot as plt"
   ]
  },
  {
   "cell_type": "code",
   "execution_count": 3,
   "id": "b39c0153",
   "metadata": {},
   "outputs": [],
   "source": [
    "data = pd.read_csv('mnist.csv')"
   ]
  },
  {
   "cell_type": "code",
   "execution_count": 4,
   "id": "ccc9be78",
   "metadata": {},
   "outputs": [],
   "source": [
    "data.drop(columns = [data.columns[0]], inplace= True)"
   ]
  },
  {
   "cell_type": "code",
   "execution_count": 5,
   "id": "c2c1e392",
   "metadata": {},
   "outputs": [
    {
     "data": {
      "text/html": [
       "<div>\n",
       "<style scoped>\n",
       "    .dataframe tbody tr th:only-of-type {\n",
       "        vertical-align: middle;\n",
       "    }\n",
       "\n",
       "    .dataframe tbody tr th {\n",
       "        vertical-align: top;\n",
       "    }\n",
       "\n",
       "    .dataframe thead th {\n",
       "        text-align: right;\n",
       "    }\n",
       "</style>\n",
       "<table border=\"1\" class=\"dataframe\">\n",
       "  <thead>\n",
       "    <tr style=\"text-align: right;\">\n",
       "      <th></th>\n",
       "      <th>label</th>\n",
       "      <th>pixel0</th>\n",
       "      <th>pixel1</th>\n",
       "      <th>pixel2</th>\n",
       "      <th>pixel3</th>\n",
       "      <th>pixel4</th>\n",
       "      <th>pixel5</th>\n",
       "      <th>pixel6</th>\n",
       "      <th>pixel7</th>\n",
       "      <th>pixel8</th>\n",
       "      <th>...</th>\n",
       "      <th>pixel774</th>\n",
       "      <th>pixel775</th>\n",
       "      <th>pixel776</th>\n",
       "      <th>pixel777</th>\n",
       "      <th>pixel778</th>\n",
       "      <th>pixel779</th>\n",
       "      <th>pixel780</th>\n",
       "      <th>pixel781</th>\n",
       "      <th>pixel782</th>\n",
       "      <th>pixel783</th>\n",
       "    </tr>\n",
       "  </thead>\n",
       "  <tbody>\n",
       "    <tr>\n",
       "      <th>0</th>\n",
       "      <td>1</td>\n",
       "      <td>0</td>\n",
       "      <td>0</td>\n",
       "      <td>0</td>\n",
       "      <td>0</td>\n",
       "      <td>0</td>\n",
       "      <td>0</td>\n",
       "      <td>0</td>\n",
       "      <td>0</td>\n",
       "      <td>0</td>\n",
       "      <td>...</td>\n",
       "      <td>0</td>\n",
       "      <td>0</td>\n",
       "      <td>0</td>\n",
       "      <td>0</td>\n",
       "      <td>0</td>\n",
       "      <td>0</td>\n",
       "      <td>0</td>\n",
       "      <td>0</td>\n",
       "      <td>0</td>\n",
       "      <td>0</td>\n",
       "    </tr>\n",
       "    <tr>\n",
       "      <th>1</th>\n",
       "      <td>0</td>\n",
       "      <td>0</td>\n",
       "      <td>0</td>\n",
       "      <td>0</td>\n",
       "      <td>0</td>\n",
       "      <td>0</td>\n",
       "      <td>0</td>\n",
       "      <td>0</td>\n",
       "      <td>0</td>\n",
       "      <td>0</td>\n",
       "      <td>...</td>\n",
       "      <td>0</td>\n",
       "      <td>0</td>\n",
       "      <td>0</td>\n",
       "      <td>0</td>\n",
       "      <td>0</td>\n",
       "      <td>0</td>\n",
       "      <td>0</td>\n",
       "      <td>0</td>\n",
       "      <td>0</td>\n",
       "      <td>0</td>\n",
       "    </tr>\n",
       "    <tr>\n",
       "      <th>2</th>\n",
       "      <td>1</td>\n",
       "      <td>0</td>\n",
       "      <td>0</td>\n",
       "      <td>0</td>\n",
       "      <td>0</td>\n",
       "      <td>0</td>\n",
       "      <td>0</td>\n",
       "      <td>0</td>\n",
       "      <td>0</td>\n",
       "      <td>0</td>\n",
       "      <td>...</td>\n",
       "      <td>0</td>\n",
       "      <td>0</td>\n",
       "      <td>0</td>\n",
       "      <td>0</td>\n",
       "      <td>0</td>\n",
       "      <td>0</td>\n",
       "      <td>0</td>\n",
       "      <td>0</td>\n",
       "      <td>0</td>\n",
       "      <td>0</td>\n",
       "    </tr>\n",
       "    <tr>\n",
       "      <th>3</th>\n",
       "      <td>4</td>\n",
       "      <td>0</td>\n",
       "      <td>0</td>\n",
       "      <td>0</td>\n",
       "      <td>0</td>\n",
       "      <td>0</td>\n",
       "      <td>0</td>\n",
       "      <td>0</td>\n",
       "      <td>0</td>\n",
       "      <td>0</td>\n",
       "      <td>...</td>\n",
       "      <td>0</td>\n",
       "      <td>0</td>\n",
       "      <td>0</td>\n",
       "      <td>0</td>\n",
       "      <td>0</td>\n",
       "      <td>0</td>\n",
       "      <td>0</td>\n",
       "      <td>0</td>\n",
       "      <td>0</td>\n",
       "      <td>0</td>\n",
       "    </tr>\n",
       "    <tr>\n",
       "      <th>4</th>\n",
       "      <td>0</td>\n",
       "      <td>0</td>\n",
       "      <td>0</td>\n",
       "      <td>0</td>\n",
       "      <td>0</td>\n",
       "      <td>0</td>\n",
       "      <td>0</td>\n",
       "      <td>0</td>\n",
       "      <td>0</td>\n",
       "      <td>0</td>\n",
       "      <td>...</td>\n",
       "      <td>0</td>\n",
       "      <td>0</td>\n",
       "      <td>0</td>\n",
       "      <td>0</td>\n",
       "      <td>0</td>\n",
       "      <td>0</td>\n",
       "      <td>0</td>\n",
       "      <td>0</td>\n",
       "      <td>0</td>\n",
       "      <td>0</td>\n",
       "    </tr>\n",
       "    <tr>\n",
       "      <th>...</th>\n",
       "      <td>...</td>\n",
       "      <td>...</td>\n",
       "      <td>...</td>\n",
       "      <td>...</td>\n",
       "      <td>...</td>\n",
       "      <td>...</td>\n",
       "      <td>...</td>\n",
       "      <td>...</td>\n",
       "      <td>...</td>\n",
       "      <td>...</td>\n",
       "      <td>...</td>\n",
       "      <td>...</td>\n",
       "      <td>...</td>\n",
       "      <td>...</td>\n",
       "      <td>...</td>\n",
       "      <td>...</td>\n",
       "      <td>...</td>\n",
       "      <td>...</td>\n",
       "      <td>...</td>\n",
       "      <td>...</td>\n",
       "      <td>...</td>\n",
       "    </tr>\n",
       "    <tr>\n",
       "      <th>41995</th>\n",
       "      <td>0</td>\n",
       "      <td>0</td>\n",
       "      <td>0</td>\n",
       "      <td>0</td>\n",
       "      <td>0</td>\n",
       "      <td>0</td>\n",
       "      <td>0</td>\n",
       "      <td>0</td>\n",
       "      <td>0</td>\n",
       "      <td>0</td>\n",
       "      <td>...</td>\n",
       "      <td>0</td>\n",
       "      <td>0</td>\n",
       "      <td>0</td>\n",
       "      <td>0</td>\n",
       "      <td>0</td>\n",
       "      <td>0</td>\n",
       "      <td>0</td>\n",
       "      <td>0</td>\n",
       "      <td>0</td>\n",
       "      <td>0</td>\n",
       "    </tr>\n",
       "    <tr>\n",
       "      <th>41996</th>\n",
       "      <td>1</td>\n",
       "      <td>0</td>\n",
       "      <td>0</td>\n",
       "      <td>0</td>\n",
       "      <td>0</td>\n",
       "      <td>0</td>\n",
       "      <td>0</td>\n",
       "      <td>0</td>\n",
       "      <td>0</td>\n",
       "      <td>0</td>\n",
       "      <td>...</td>\n",
       "      <td>0</td>\n",
       "      <td>0</td>\n",
       "      <td>0</td>\n",
       "      <td>0</td>\n",
       "      <td>0</td>\n",
       "      <td>0</td>\n",
       "      <td>0</td>\n",
       "      <td>0</td>\n",
       "      <td>0</td>\n",
       "      <td>0</td>\n",
       "    </tr>\n",
       "    <tr>\n",
       "      <th>41997</th>\n",
       "      <td>7</td>\n",
       "      <td>0</td>\n",
       "      <td>0</td>\n",
       "      <td>0</td>\n",
       "      <td>0</td>\n",
       "      <td>0</td>\n",
       "      <td>0</td>\n",
       "      <td>0</td>\n",
       "      <td>0</td>\n",
       "      <td>0</td>\n",
       "      <td>...</td>\n",
       "      <td>0</td>\n",
       "      <td>0</td>\n",
       "      <td>0</td>\n",
       "      <td>0</td>\n",
       "      <td>0</td>\n",
       "      <td>0</td>\n",
       "      <td>0</td>\n",
       "      <td>0</td>\n",
       "      <td>0</td>\n",
       "      <td>0</td>\n",
       "    </tr>\n",
       "    <tr>\n",
       "      <th>41998</th>\n",
       "      <td>6</td>\n",
       "      <td>0</td>\n",
       "      <td>0</td>\n",
       "      <td>0</td>\n",
       "      <td>0</td>\n",
       "      <td>0</td>\n",
       "      <td>0</td>\n",
       "      <td>0</td>\n",
       "      <td>0</td>\n",
       "      <td>0</td>\n",
       "      <td>...</td>\n",
       "      <td>0</td>\n",
       "      <td>0</td>\n",
       "      <td>0</td>\n",
       "      <td>0</td>\n",
       "      <td>0</td>\n",
       "      <td>0</td>\n",
       "      <td>0</td>\n",
       "      <td>0</td>\n",
       "      <td>0</td>\n",
       "      <td>0</td>\n",
       "    </tr>\n",
       "    <tr>\n",
       "      <th>41999</th>\n",
       "      <td>9</td>\n",
       "      <td>0</td>\n",
       "      <td>0</td>\n",
       "      <td>0</td>\n",
       "      <td>0</td>\n",
       "      <td>0</td>\n",
       "      <td>0</td>\n",
       "      <td>0</td>\n",
       "      <td>0</td>\n",
       "      <td>0</td>\n",
       "      <td>...</td>\n",
       "      <td>0</td>\n",
       "      <td>0</td>\n",
       "      <td>0</td>\n",
       "      <td>0</td>\n",
       "      <td>0</td>\n",
       "      <td>0</td>\n",
       "      <td>0</td>\n",
       "      <td>0</td>\n",
       "      <td>0</td>\n",
       "      <td>0</td>\n",
       "    </tr>\n",
       "  </tbody>\n",
       "</table>\n",
       "<p>42000 rows × 785 columns</p>\n",
       "</div>"
      ],
      "text/plain": [
       "       label  pixel0  pixel1  pixel2  pixel3  pixel4  pixel5  pixel6  pixel7  \\\n",
       "0          1       0       0       0       0       0       0       0       0   \n",
       "1          0       0       0       0       0       0       0       0       0   \n",
       "2          1       0       0       0       0       0       0       0       0   \n",
       "3          4       0       0       0       0       0       0       0       0   \n",
       "4          0       0       0       0       0       0       0       0       0   \n",
       "...      ...     ...     ...     ...     ...     ...     ...     ...     ...   \n",
       "41995      0       0       0       0       0       0       0       0       0   \n",
       "41996      1       0       0       0       0       0       0       0       0   \n",
       "41997      7       0       0       0       0       0       0       0       0   \n",
       "41998      6       0       0       0       0       0       0       0       0   \n",
       "41999      9       0       0       0       0       0       0       0       0   \n",
       "\n",
       "       pixel8  ...  pixel774  pixel775  pixel776  pixel777  pixel778  \\\n",
       "0           0  ...         0         0         0         0         0   \n",
       "1           0  ...         0         0         0         0         0   \n",
       "2           0  ...         0         0         0         0         0   \n",
       "3           0  ...         0         0         0         0         0   \n",
       "4           0  ...         0         0         0         0         0   \n",
       "...       ...  ...       ...       ...       ...       ...       ...   \n",
       "41995       0  ...         0         0         0         0         0   \n",
       "41996       0  ...         0         0         0         0         0   \n",
       "41997       0  ...         0         0         0         0         0   \n",
       "41998       0  ...         0         0         0         0         0   \n",
       "41999       0  ...         0         0         0         0         0   \n",
       "\n",
       "       pixel779  pixel780  pixel781  pixel782  pixel783  \n",
       "0             0         0         0         0         0  \n",
       "1             0         0         0         0         0  \n",
       "2             0         0         0         0         0  \n",
       "3             0         0         0         0         0  \n",
       "4             0         0         0         0         0  \n",
       "...         ...       ...       ...       ...       ...  \n",
       "41995         0         0         0         0         0  \n",
       "41996         0         0         0         0         0  \n",
       "41997         0         0         0         0         0  \n",
       "41998         0         0         0         0         0  \n",
       "41999         0         0         0         0         0  \n",
       "\n",
       "[42000 rows x 785 columns]"
      ]
     },
     "execution_count": 5,
     "metadata": {},
     "output_type": "execute_result"
    }
   ],
   "source": [
    "data"
   ]
  },
  {
   "cell_type": "code",
   "execution_count": 6,
   "id": "822c1f3e",
   "metadata": {},
   "outputs": [],
   "source": [
    "data = np.array(data)\n",
    "m, n = data.shape\n",
    "# np.random.shuffle(data) # shuffle before splitting into dev and training sets\n",
    "\n",
    "data_dev = data[0:1000].T\n",
    "Y_dev = data_dev[0]\n",
    "X_dev = data_dev[1:n]\n",
    "X_dev = X_dev / 255.\n",
    "\n",
    "data_train = data[1000:m].T\n",
    "y_train = data_train[0]\n",
    "x_train = data_train[1:n]\n",
    "x_train = x_train / 255.\n",
    "_,m_train = x_train.shape"
   ]
  },
  {
   "cell_type": "code",
   "execution_count": 7,
   "id": "5c202970",
   "metadata": {},
   "outputs": [],
   "source": [
    "def init_params(a,n_labels,x_size):\n",
    "    w1 = np.random.randn(a,x_size) - 0.5\n",
    "    b1 = np.random.randn(a,1) - 0.5\n",
    "    \n",
    "    \n",
    "    \n",
    "    w2 = np.random.randn(a,n_labels) - 0.5\n",
    "    b2 = np.random.randn(n_labels,1) - 0.5\n",
    "    \n",
    "    return w1, b1, w2, b2"
   ]
  },
  {
   "cell_type": "code",
   "execution_count": 8,
   "id": "fab7c771",
   "metadata": {},
   "outputs": [],
   "source": [
    "def init_param():\n",
    "    hidden_cells_size = 10\n",
    "    \n",
    "    W1 = np.random.rand(10, 784) - 0.5\n",
    "    b1 = np.random.rand(10, 1) - 0.5\n",
    "    \n",
    "    W2 = np.random.rand(hidden_cells_size, 10) - 0.5\n",
    "    b2 = np.random.rand(hidden_cells_size, 1) - 0.5\n",
    "    \n",
    "\n",
    "    W3 = np.random.rand(10, hidden_cells_size) - 0.5\n",
    "    b3 = np.random.rand(10, 1) - 0.5\n",
    "    \n",
    "    return W1, b1, W2, b2, W3, b3"
   ]
  },
  {
   "cell_type": "code",
   "execution_count": null,
   "id": "4bcda2ea",
   "metadata": {},
   "outputs": [],
   "source": []
  },
  {
   "cell_type": "code",
   "execution_count": 9,
   "id": "597263b2",
   "metadata": {},
   "outputs": [],
   "source": [
    "def leaky_relu(z, alpha=0.01):\n",
    "    return np.where(z > 0, z, alpha * z)\n",
    "\n",
    "def deriv_leaky_relu(z, alpha=0.01):\n",
    "    return np.where(z > 0, 1, alpha)"
   ]
  },
  {
   "cell_type": "code",
   "execution_count": 10,
   "id": "339a63a2",
   "metadata": {},
   "outputs": [],
   "source": [
    "def relu(z):\n",
    "    return np.maximum(z,0)\n",
    "\n",
    "def softmax(Z):\n",
    "#     shift_x = x - np.max(x)\n",
    "#     exp_x = np.exp(shift_x)\n",
    "#     a = exp_x / np.sum(exp_x)\n",
    "#     return a\n",
    "    A = np.exp(Z) / sum(np.exp(Z))\n",
    "    return A\n"
   ]
  },
  {
   "cell_type": "code",
   "execution_count": 11,
   "id": "e84c2ac6",
   "metadata": {},
   "outputs": [],
   "source": [
    "def for_prop(x, w1, b1, w2, b2, w3, b3):\n",
    "    z1 = w1.dot(x) + b1\n",
    "    a1 = relu(z1)\n",
    "    \n",
    "    z2 = w2.dot(a1) + b2\n",
    "    a2 = relu(z2)\n",
    "    \n",
    "    z3 = w3.dot(a2) + b3  # b3 is broadcast to match z3's shape\n",
    "    a3 = softmax(z3)\n",
    "    \n",
    "    return z1, a1, z2, a2, z3, a3"
   ]
  },
  {
   "cell_type": "code",
   "execution_count": 12,
   "id": "e173894b",
   "metadata": {},
   "outputs": [],
   "source": [
    "def one_hot(y):\n",
    "    one_hot_y = np.zeros((y.size, y.max()+1))\n",
    "    one_hot_y[np.arange(y.size), y] = 1\n",
    "    one_hot_y = one_hot_y.T\n",
    "    return one_hot_y"
   ]
  },
  {
   "cell_type": "code",
   "execution_count": 13,
   "id": "16e23d1b",
   "metadata": {},
   "outputs": [],
   "source": [
    "def deriv_relu(z):\n",
    "    return z>0"
   ]
  },
  {
   "cell_type": "code",
   "execution_count": 14,
   "id": "079484ae",
   "metadata": {},
   "outputs": [],
   "source": [
    "def back_prop(z1,a1,z2,a2,z3,a3,w1,w2,w3,x,y):\n",
    "    one_hot_y = one_hot(y)\n",
    "    \n",
    "    dz3 = a3 - one_hot_y\n",
    "    dw3 = 1/m * dz3.dot(a2.T)\n",
    "    db3 = 1/m * np.sum(dz3)\n",
    "    \n",
    "    dz2 = w3.T.dot(dz3) * deriv_relu(z2)\n",
    "    dw2 = 1/m * dz2.dot(a1.T)\n",
    "    db2 = 1/m * np.sum(dz2)\n",
    "    \n",
    "    dz1 = w2.T.dot(dz2) * deriv_relu(z1)\n",
    "    dw1 = 1/m * dz1.dot(x.T)\n",
    "    db1 = 1/m*np.sum(dz1)\n",
    "    \n",
    "    return dw1, db1, dw2, db2, dw3, db3\n",
    "    \n",
    "    "
   ]
  },
  {
   "cell_type": "code",
   "execution_count": null,
   "id": "4e1e5a6b",
   "metadata": {},
   "outputs": [],
   "source": []
  },
  {
   "cell_type": "code",
   "execution_count": 15,
   "id": "39b52c9f",
   "metadata": {},
   "outputs": [],
   "source": [
    "def update_params(w1,b1,w2,b2,w3,b3,dw1, db1, dw2, db2, dw3, db3,lr):\n",
    "    w1 = w1 - lr*dw1\n",
    "    b1 = b1 - lr*db1\n",
    "    \n",
    "    w2 = w2 - lr*dw2\n",
    "    b2 = b2 - lr*db2\n",
    "    \n",
    "    w3 = w3 - lr*dw3\n",
    "    b3 = b3 - lr*db3\n",
    "\n",
    "    return w1, b1, w2, b2, w3, b3"
   ]
  },
  {
   "cell_type": "code",
   "execution_count": 16,
   "id": "fab367ca",
   "metadata": {},
   "outputs": [],
   "source": [
    "def get_pred(a2):\n",
    "    return np.argmax(a2,0)\n",
    "\n",
    "def get_acc(pred,y):\n",
    "    return np.sum(y == pred)/y.size"
   ]
  },
  {
   "cell_type": "code",
   "execution_count": 207,
   "id": "f480240b",
   "metadata": {},
   "outputs": [
    {
     "data": {
      "text/plain": [
       "10"
      ]
     },
     "execution_count": 207,
     "metadata": {},
     "output_type": "execute_result"
    }
   ],
   "source": [
    "np.unique(y_train).shape[0]"
   ]
  },
  {
   "cell_type": "code",
   "execution_count": 208,
   "id": "ab289f95",
   "metadata": {},
   "outputs": [],
   "source": [
    "def grad_desc(x,y,epochs,lr):\n",
    "    x_size = x.shape[0]\n",
    "    n_labels = np.unique(y).shape[0]\n",
    "    a = 10\n",
    "    \n",
    "    \n",
    "    w1, b1, w2, b2, w3, b3 = init_param()\n",
    "    \n",
    "    for i in range(epochs):\n",
    "        z1, a1, z2, a2, z3, a3 = for_prop(x, w1, b1, w2, b2, w3, b3)\n",
    "        dw1, db1, dw2, db2, dw3, db3 = back_prop(z1, a1, z2, a2, z3, a3,w1,w2,w3,x,y)\n",
    "        w1, b1, w2, b2, w3, b3 = update_params(w1,b1,w2,b2,w3,b3,dw1, db1, dw2, db2, dw3, db3,lr)\n",
    "        \n",
    "        print(f'Accuracy of {i}th iteration is {get_acc(get_pred(a3),y)}')\n",
    "    \n",
    "    return w1, b1, w2, b2, w3, b3\n",
    "#     return x,get_pred(a2)\n",
    "\n",
    "    "
   ]
  },
  {
   "cell_type": "code",
   "execution_count": 255,
   "id": "89b38103",
   "metadata": {
    "scrolled": true
   },
   "outputs": [
    {
     "name": "stdout",
     "output_type": "stream",
     "text": [
      "Accuracy of 0th iteration is 0.0921219512195122\n",
      "Accuracy of 1th iteration is 0.09153658536585366\n",
      "Accuracy of 2th iteration is 0.09136585365853658\n",
      "Accuracy of 3th iteration is 0.09124390243902439\n",
      "Accuracy of 4th iteration is 0.09070731707317073\n",
      "Accuracy of 5th iteration is 0.09021951219512195\n",
      "Accuracy of 6th iteration is 0.08990243902439024\n",
      "Accuracy of 7th iteration is 0.08951219512195122\n",
      "Accuracy of 8th iteration is 0.08921951219512195\n",
      "Accuracy of 9th iteration is 0.089\n",
      "Accuracy of 10th iteration is 0.08865853658536585\n",
      "Accuracy of 11th iteration is 0.08809756097560975\n",
      "Accuracy of 12th iteration is 0.08758536585365853\n",
      "Accuracy of 13th iteration is 0.0871951219512195\n",
      "Accuracy of 14th iteration is 0.08663414634146341\n",
      "Accuracy of 15th iteration is 0.08607317073170731\n",
      "Accuracy of 16th iteration is 0.08570731707317074\n",
      "Accuracy of 17th iteration is 0.08529268292682927\n",
      "Accuracy of 18th iteration is 0.085\n",
      "Accuracy of 19th iteration is 0.08492682926829269\n",
      "Accuracy of 20th iteration is 0.08470731707317074\n",
      "Accuracy of 21th iteration is 0.08446341463414635\n",
      "Accuracy of 22th iteration is 0.08409756097560976\n",
      "Accuracy of 23th iteration is 0.08373170731707318\n",
      "Accuracy of 24th iteration is 0.08346341463414635\n",
      "Accuracy of 25th iteration is 0.0832439024390244\n",
      "Accuracy of 26th iteration is 0.08307317073170732\n",
      "Accuracy of 27th iteration is 0.08282926829268293\n",
      "Accuracy of 28th iteration is 0.0826829268292683\n",
      "Accuracy of 29th iteration is 0.08234146341463415\n",
      "Accuracy of 30th iteration is 0.08197560975609756\n",
      "Accuracy of 31th iteration is 0.08173170731707317\n",
      "Accuracy of 32th iteration is 0.08153658536585366\n",
      "Accuracy of 33th iteration is 0.08121951219512195\n",
      "Accuracy of 34th iteration is 0.08119512195121951\n",
      "Accuracy of 35th iteration is 0.081\n",
      "Accuracy of 36th iteration is 0.08092682926829269\n",
      "Accuracy of 37th iteration is 0.08078048780487805\n",
      "Accuracy of 38th iteration is 0.08048780487804878\n",
      "Accuracy of 39th iteration is 0.08014634146341464\n",
      "Accuracy of 40th iteration is 0.07975609756097561\n",
      "Accuracy of 41th iteration is 0.0798780487804878\n",
      "Accuracy of 42th iteration is 0.07978048780487805\n",
      "Accuracy of 43th iteration is 0.07965853658536586\n",
      "Accuracy of 44th iteration is 0.07936585365853659\n",
      "Accuracy of 45th iteration is 0.07934146341463415\n",
      "Accuracy of 46th iteration is 0.07895121951219512\n",
      "Accuracy of 47th iteration is 0.07873170731707317\n",
      "Accuracy of 48th iteration is 0.07853658536585366\n",
      "Accuracy of 49th iteration is 0.07831707317073171\n",
      "Accuracy of 50th iteration is 0.07809756097560976\n",
      "Accuracy of 51th iteration is 0.0778780487804878\n",
      "Accuracy of 52th iteration is 0.07773170731707317\n",
      "Accuracy of 53th iteration is 0.0775609756097561\n",
      "Accuracy of 54th iteration is 0.07748780487804878\n",
      "Accuracy of 55th iteration is 0.07709756097560976\n",
      "Accuracy of 56th iteration is 0.07702439024390244\n",
      "Accuracy of 57th iteration is 0.07695121951219512\n",
      "Accuracy of 58th iteration is 0.07690243902439024\n",
      "Accuracy of 59th iteration is 0.07685365853658536\n",
      "Accuracy of 60th iteration is 0.07678048780487805\n",
      "Accuracy of 61th iteration is 0.07663414634146341\n",
      "Accuracy of 62th iteration is 0.07641463414634146\n",
      "Accuracy of 63th iteration is 0.07641463414634146\n",
      "Accuracy of 64th iteration is 0.07609756097560975\n",
      "Accuracy of 65th iteration is 0.07578048780487805\n",
      "Accuracy of 66th iteration is 0.07582926829268292\n",
      "Accuracy of 67th iteration is 0.07563414634146341\n",
      "Accuracy of 68th iteration is 0.07551219512195122\n",
      "Accuracy of 69th iteration is 0.07541463414634146\n",
      "Accuracy of 70th iteration is 0.07529268292682927\n",
      "Accuracy of 71th iteration is 0.07509756097560975\n",
      "Accuracy of 72th iteration is 0.07502439024390244\n",
      "Accuracy of 73th iteration is 0.07495121951219512\n",
      "Accuracy of 74th iteration is 0.07485365853658536\n",
      "Accuracy of 75th iteration is 0.07478048780487805\n",
      "Accuracy of 76th iteration is 0.07473170731707317\n",
      "Accuracy of 77th iteration is 0.07470731707317073\n",
      "Accuracy of 78th iteration is 0.07460975609756097\n",
      "Accuracy of 79th iteration is 0.07441463414634146\n",
      "Accuracy of 80th iteration is 0.07439024390243902\n",
      "Accuracy of 81th iteration is 0.07426829268292683\n",
      "Accuracy of 82th iteration is 0.07412195121951219\n",
      "Accuracy of 83th iteration is 0.07395121951219512\n",
      "Accuracy of 84th iteration is 0.07397560975609756\n",
      "Accuracy of 85th iteration is 0.07397560975609756\n",
      "Accuracy of 86th iteration is 0.0738780487804878\n",
      "Accuracy of 87th iteration is 0.07382926829268292\n",
      "Accuracy of 88th iteration is 0.07368292682926829\n",
      "Accuracy of 89th iteration is 0.0735609756097561\n",
      "Accuracy of 90th iteration is 0.07351219512195122\n",
      "Accuracy of 91th iteration is 0.07339024390243902\n",
      "Accuracy of 92th iteration is 0.07329268292682926\n",
      "Accuracy of 93th iteration is 0.07326829268292682\n",
      "Accuracy of 94th iteration is 0.07324390243902439\n",
      "Accuracy of 95th iteration is 0.07302439024390243\n",
      "Accuracy of 96th iteration is 0.07282926829268292\n",
      "Accuracy of 97th iteration is 0.0727560975609756\n",
      "Accuracy of 98th iteration is 0.07265853658536585\n",
      "Accuracy of 99th iteration is 0.07253658536585365\n"
     ]
    }
   ],
   "source": [
    "W1, b1, W2, b2, W3, b3 = grad_desc(x_train, y_train, 100, 0.01)"
   ]
  },
  {
   "cell_type": "code",
   "execution_count": 210,
   "id": "6e6d775f",
   "metadata": {},
   "outputs": [
    {
     "data": {
      "text/plain": [
       "[(10, 784), (10, 1), (5, 10), (5, 1), (10, 5), (10, 1)]"
      ]
     },
     "execution_count": 210,
     "metadata": {},
     "output_type": "execute_result"
    }
   ],
   "source": [
    "[i.shape for i in [W1, b1, W2, b2, W3, b3]]"
   ]
  },
  {
   "cell_type": "code",
   "execution_count": null,
   "id": "fc805515",
   "metadata": {},
   "outputs": [],
   "source": []
  },
  {
   "cell_type": "code",
   "execution_count": null,
   "id": "d27cdcdf",
   "metadata": {},
   "outputs": [],
   "source": []
  },
  {
   "cell_type": "code",
   "execution_count": 211,
   "id": "16dd65b0",
   "metadata": {},
   "outputs": [],
   "source": [
    "def make_predictions(x, w1, b1, w2, b2, w3, b3):\n",
    "    _,_,_, _, _, A3 = for_prop(x, w1, b1, w2, b2, w3, b3)\n",
    "    predictions = get_pred(A3)\n",
    "    return predictions"
   ]
  },
  {
   "cell_type": "code",
   "execution_count": 212,
   "id": "88cc7fbe",
   "metadata": {},
   "outputs": [],
   "source": [
    "def test_prediction(index, w1, b1, w2, b2, w3, b3):\n",
    "    current_image = x_train[:, index, None]\n",
    "    prediction = make_predictions(x_train[:, index, None], w1, b1, w2, b2, w3, b3)\n",
    "    label = y_train[index]\n",
    "    \n",
    "    print(\"Prediction: \", prediction)\n",
    "    print(\"Label: \", label)\n",
    "    \n",
    "    current_image = current_image.reshape((28, 28)) * 255\n",
    "    plt.gray()\n",
    "    plt.imshow(current_image, interpolation='nearest')\n",
    "    plt.show()\n",
    "    \n",
    "    return prediction"
   ]
  },
  {
   "cell_type": "code",
   "execution_count": 213,
   "id": "3af802ec",
   "metadata": {},
   "outputs": [
    {
     "data": {
      "text/plain": [
       "(784, 41000)"
      ]
     },
     "execution_count": 213,
     "metadata": {},
     "output_type": "execute_result"
    }
   ],
   "source": [
    "x_train.shape"
   ]
  },
  {
   "cell_type": "code",
   "execution_count": 214,
   "id": "6d28c898",
   "metadata": {},
   "outputs": [
    {
     "data": {
      "text/plain": [
       "1202"
      ]
     },
     "execution_count": 214,
     "metadata": {},
     "output_type": "execute_result"
    }
   ],
   "source": [
    "np.random.randint(x_train.shape[1])"
   ]
  },
  {
   "cell_type": "code",
   "execution_count": null,
   "id": "ad31e141",
   "metadata": {},
   "outputs": [],
   "source": []
  },
  {
   "cell_type": "code",
   "execution_count": 230,
   "id": "4fd5d455",
   "metadata": {},
   "outputs": [
    {
     "name": "stdout",
     "output_type": "stream",
     "text": [
      "Prediction:  [8]\n",
      "Label:  5\n"
     ]
    },
    {
     "data": {
      "image/png": "[encoded data removed]",
      "text/plain": [
       "<Figure size 640x480 with 1 Axes>"
      ]
     },
     "metadata": {},
     "output_type": "display_data"
    }
   ],
   "source": [
    "pred = test_prediction(np.random.randint(x_train.shape[1]), W1, b1, W2, b2, W3, b3)\n"
   ]
  },
  {
   "cell_type": "code",
   "execution_count": 248,
   "id": "ca1f469a",
   "metadata": {},
   "outputs": [
    {
     "name": "stdout",
     "output_type": "stream",
     "text": [
      "Prediction:  [5]\n",
      "Label:  4\n"
     ]
    },
    {
     "data": {
      "image/png": "[encoded data removed]",
      "text/plain": [
       "<Figure size 640x480 with 1 Axes>"
      ]
     },
     "metadata": {},
     "output_type": "display_data"
    },
    {
     "data": {
      "text/plain": [
       "array([5], dtype=int64)"
      ]
     },
     "execution_count": 248,
     "metadata": {},
     "output_type": "execute_result"
    }
   ],
   "source": [
    "test_prediction(243, W1, b1, W2, b2, W3, b3)\n"
   ]
  },
  {
   "cell_type": "code",
   "execution_count": 190,
   "id": "7a127de1",
   "metadata": {},
   "outputs": [],
   "source": [
    "a = x_train[:,243]"
   ]
  },
  {
   "cell_type": "code",
   "execution_count": 191,
   "id": "4d78e58f",
   "metadata": {},
   "outputs": [
    {
     "data": {
      "text/plain": [
       "array([3, 3, 0, ..., 3, 5, 3], dtype=int64)"
      ]
     },
     "execution_count": 191,
     "metadata": {},
     "output_type": "execute_result"
    }
   ],
   "source": [
    "make_predictions(a, W1, b1, W2, b2, W3, b3)\n"
   ]
  },
  {
   "cell_type": "code",
   "execution_count": 192,
   "id": "ccb43be2",
   "metadata": {},
   "outputs": [
    {
     "data": {
      "text/plain": [
       "(41000,)"
      ]
     },
     "execution_count": 192,
     "metadata": {},
     "output_type": "execute_result"
    }
   ],
   "source": [
    "pred.shape"
   ]
  },
  {
   "cell_type": "code",
   "execution_count": 193,
   "id": "e4b9f593",
   "metadata": {},
   "outputs": [
    {
     "data": {
      "text/plain": [
       "(784,)"
      ]
     },
     "execution_count": 193,
     "metadata": {},
     "output_type": "execute_result"
    }
   ],
   "source": [
    "a.shape"
   ]
  },
  {
   "cell_type": "code",
   "execution_count": null,
   "id": "5da5be9e",
   "metadata": {},
   "outputs": [],
   "source": []
  },
  {
   "cell_type": "code",
   "execution_count": null,
   "id": "da595230",
   "metadata": {},
   "outputs": [],
   "source": [
    "m,n = data.shape"
   ]
  },
  {
   "cell_type": "code",
   "execution_count": null,
   "id": "3f7aaf9e",
   "metadata": {},
   "outputs": [],
   "source": [
    "m,n"
   ]
  },
  {
   "cell_type": "code",
   "execution_count": null,
   "id": "74c36b5f",
   "metadata": {},
   "outputs": [],
   "source": [
    "get_acc"
   ]
  },
  {
   "cell_type": "code",
   "execution_count": null,
   "id": "9d56d9f3",
   "metadata": {},
   "outputs": [],
   "source": []
  },
  {
   "cell_type": "code",
   "execution_count": 235,
   "id": "3a89035a",
   "metadata": {},
   "outputs": [],
   "source": [
    "z = np.random.rand(10, 784) - 0.5"
   ]
  },
  {
   "cell_type": "code",
   "execution_count": 239,
   "id": "2d62c0e5",
   "metadata": {},
   "outputs": [
    {
     "data": {
      "text/plain": [
       "0.23850540815566312"
      ]
     },
     "execution_count": 239,
     "metadata": {},
     "output_type": "execute_result"
    }
   ],
   "source": [
    "z[0][0]"
   ]
  },
  {
   "cell_type": "code",
   "execution_count": 243,
   "id": "ca540c2f",
   "metadata": {},
   "outputs": [
    {
     "data": {
      "text/plain": [
       "array(-0.04)"
      ]
     },
     "execution_count": 243,
     "metadata": {},
     "output_type": "execute_result"
    }
   ],
   "source": [
    "leaky_relu(-4)"
   ]
  },
  {
   "cell_type": "code",
   "execution_count": 241,
   "id": "df59b205",
   "metadata": {},
   "outputs": [],
   "source": [
    "np.where?"
   ]
  },
  {
   "cell_type": "code",
   "execution_count": null,
   "id": "0caf895c",
   "metadata": {},
   "outputs": [],
   "source": []
  }
 ],
 "metadata": {
  "kernelspec": {
   "display_name": "Python 3 (ipykernel)",
   "language": "python",
   "name": "python3"
  },
  "language_info": {
   "codemirror_mode": {
    "name": "ipython",
    "version": 3
   },
   "file_extension": ".py",
   "mimetype": "text/x-python",
   "name": "python",
   "nbconvert_exporter": "python",
   "pygments_lexer": "ipython3",
   "version": "3.11.3"
  }
 },
 "nbformat": 4,
 "nbformat_minor": 5
}
