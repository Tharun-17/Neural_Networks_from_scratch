{
 "cells": [
  {
   "cell_type": "code",
   "execution_count": 1,
   "id": "9248d430",
   "metadata": {},
   "outputs": [],
   "source": [
    "from keras.datasets import mnist"
   ]
  },
  {
   "cell_type": "code",
   "execution_count": 2,
   "id": "72f9d407",
   "metadata": {},
   "outputs": [],
   "source": [
    "(x_train, y_train), (x_test, y_test) = mnist.load_data()\n"
   ]
  },
  {
   "cell_type": "code",
   "execution_count": 3,
   "id": "580bcee7",
   "metadata": {},
   "outputs": [],
   "source": [
    "x_train_flat = x_train.reshape(x_train.shape[0], 28*28)\n",
    "x_test_flat = x_test.reshape(x_test.shape[0], 28*28)\n"
   ]
  },
  {
   "cell_type": "code",
   "execution_count": 4,
   "id": "ca841927",
   "metadata": {},
   "outputs": [
    {
     "ename": "NameError",
     "evalue": "name 'pd' is not defined",
     "output_type": "error",
     "traceback": [
      "\u001b[1;31m---------------------------------------------------------------------------\u001b[0m",
      "\u001b[1;31mNameError\u001b[0m                                 Traceback (most recent call last)",
      "Cell \u001b[1;32mIn[4], line 1\u001b[0m\n\u001b[1;32m----> 1\u001b[0m train_df \u001b[38;5;241m=\u001b[39m pd\u001b[38;5;241m.\u001b[39mDataFrame(x_train_flat)\n\u001b[0;32m      2\u001b[0m train_df[\u001b[38;5;124m'\u001b[39m\u001b[38;5;124mlabel\u001b[39m\u001b[38;5;124m'\u001b[39m] \u001b[38;5;241m=\u001b[39m y_train\n",
      "\u001b[1;31mNameError\u001b[0m: name 'pd' is not defined"
     ]
    }
   ],
   "source": [
    "train_df = pd.DataFrame(x_train_flat)\n",
    "train_df['label'] = y_train"
   ]
  },
  {
   "cell_type": "code",
   "execution_count": null,
   "id": "4cde9ae9",
   "metadata": {},
   "outputs": [],
   "source": [
    "train_df = train_df[['label'] + [col for col in train_df.columns if col != 'label']]\n"
   ]
  },
  {
   "cell_type": "code",
   "execution_count": 1,
   "id": "ba950dd2",
   "metadata": {},
   "outputs": [],
   "source": [
    "import numpy as np \n",
    "import pandas as pd"
   ]
  },
  {
   "cell_type": "code",
   "execution_count": 2,
   "id": "e220f20f",
   "metadata": {},
   "outputs": [],
   "source": [
    "import matplotlib.pyplot as plt"
   ]
  },
  {
   "cell_type": "code",
   "execution_count": 14,
   "id": "b39c0153",
   "metadata": {},
   "outputs": [],
   "source": [
    "data = pd.read_csv('mnist.csv')"
   ]
  },
  {
   "cell_type": "code",
   "execution_count": 15,
   "id": "ccc9be78",
   "metadata": {},
   "outputs": [],
   "source": [
    "data.drop(columns = [data.columns[0]], inplace= True)"
   ]
  },
  {
   "cell_type": "code",
   "execution_count": 16,
   "id": "c2c1e392",
   "metadata": {},
   "outputs": [
    {
     "data": {
      "text/html": [
       "<div>\n",
       "<style scoped>\n",
       "    .dataframe tbody tr th:only-of-type {\n",
       "        vertical-align: middle;\n",
       "    }\n",
       "\n",
       "    .dataframe tbody tr th {\n",
       "        vertical-align: top;\n",
       "    }\n",
       "\n",
       "    .dataframe thead th {\n",
       "        text-align: right;\n",
       "    }\n",
       "</style>\n",
       "<table border=\"1\" class=\"dataframe\">\n",
       "  <thead>\n",
       "    <tr style=\"text-align: right;\">\n",
       "      <th></th>\n",
       "      <th>label</th>\n",
       "      <th>pixel0</th>\n",
       "      <th>pixel1</th>\n",
       "      <th>pixel2</th>\n",
       "      <th>pixel3</th>\n",
       "      <th>pixel4</th>\n",
       "      <th>pixel5</th>\n",
       "      <th>pixel6</th>\n",
       "      <th>pixel7</th>\n",
       "      <th>pixel8</th>\n",
       "      <th>...</th>\n",
       "      <th>pixel774</th>\n",
       "      <th>pixel775</th>\n",
       "      <th>pixel776</th>\n",
       "      <th>pixel777</th>\n",
       "      <th>pixel778</th>\n",
       "      <th>pixel779</th>\n",
       "      <th>pixel780</th>\n",
       "      <th>pixel781</th>\n",
       "      <th>pixel782</th>\n",
       "      <th>pixel783</th>\n",
       "    </tr>\n",
       "  </thead>\n",
       "  <tbody>\n",
       "    <tr>\n",
       "      <th>0</th>\n",
       "      <td>1</td>\n",
       "      <td>0</td>\n",
       "      <td>0</td>\n",
       "      <td>0</td>\n",
       "      <td>0</td>\n",
       "      <td>0</td>\n",
       "      <td>0</td>\n",
       "      <td>0</td>\n",
       "      <td>0</td>\n",
       "      <td>0</td>\n",
       "      <td>...</td>\n",
       "      <td>0</td>\n",
       "      <td>0</td>\n",
       "      <td>0</td>\n",
       "      <td>0</td>\n",
       "      <td>0</td>\n",
       "      <td>0</td>\n",
       "      <td>0</td>\n",
       "      <td>0</td>\n",
       "      <td>0</td>\n",
       "      <td>0</td>\n",
       "    </tr>\n",
       "    <tr>\n",
       "      <th>1</th>\n",
       "      <td>0</td>\n",
       "      <td>0</td>\n",
       "      <td>0</td>\n",
       "      <td>0</td>\n",
       "      <td>0</td>\n",
       "      <td>0</td>\n",
       "      <td>0</td>\n",
       "      <td>0</td>\n",
       "      <td>0</td>\n",
       "      <td>0</td>\n",
       "      <td>...</td>\n",
       "      <td>0</td>\n",
       "      <td>0</td>\n",
       "      <td>0</td>\n",
       "      <td>0</td>\n",
       "      <td>0</td>\n",
       "      <td>0</td>\n",
       "      <td>0</td>\n",
       "      <td>0</td>\n",
       "      <td>0</td>\n",
       "      <td>0</td>\n",
       "    </tr>\n",
       "    <tr>\n",
       "      <th>2</th>\n",
       "      <td>1</td>\n",
       "      <td>0</td>\n",
       "      <td>0</td>\n",
       "      <td>0</td>\n",
       "      <td>0</td>\n",
       "      <td>0</td>\n",
       "      <td>0</td>\n",
       "      <td>0</td>\n",
       "      <td>0</td>\n",
       "      <td>0</td>\n",
       "      <td>...</td>\n",
       "      <td>0</td>\n",
       "      <td>0</td>\n",
       "      <td>0</td>\n",
       "      <td>0</td>\n",
       "      <td>0</td>\n",
       "      <td>0</td>\n",
       "      <td>0</td>\n",
       "      <td>0</td>\n",
       "      <td>0</td>\n",
       "      <td>0</td>\n",
       "    </tr>\n",
       "    <tr>\n",
       "      <th>3</th>\n",
       "      <td>4</td>\n",
       "      <td>0</td>\n",
       "      <td>0</td>\n",
       "      <td>0</td>\n",
       "      <td>0</td>\n",
       "      <td>0</td>\n",
       "      <td>0</td>\n",
       "      <td>0</td>\n",
       "      <td>0</td>\n",
       "      <td>0</td>\n",
       "      <td>...</td>\n",
       "      <td>0</td>\n",
       "      <td>0</td>\n",
       "      <td>0</td>\n",
       "      <td>0</td>\n",
       "      <td>0</td>\n",
       "      <td>0</td>\n",
       "      <td>0</td>\n",
       "      <td>0</td>\n",
       "      <td>0</td>\n",
       "      <td>0</td>\n",
       "    </tr>\n",
       "    <tr>\n",
       "      <th>4</th>\n",
       "      <td>0</td>\n",
       "      <td>0</td>\n",
       "      <td>0</td>\n",
       "      <td>0</td>\n",
       "      <td>0</td>\n",
       "      <td>0</td>\n",
       "      <td>0</td>\n",
       "      <td>0</td>\n",
       "      <td>0</td>\n",
       "      <td>0</td>\n",
       "      <td>...</td>\n",
       "      <td>0</td>\n",
       "      <td>0</td>\n",
       "      <td>0</td>\n",
       "      <td>0</td>\n",
       "      <td>0</td>\n",
       "      <td>0</td>\n",
       "      <td>0</td>\n",
       "      <td>0</td>\n",
       "      <td>0</td>\n",
       "      <td>0</td>\n",
       "    </tr>\n",
       "    <tr>\n",
       "      <th>...</th>\n",
       "      <td>...</td>\n",
       "      <td>...</td>\n",
       "      <td>...</td>\n",
       "      <td>...</td>\n",
       "      <td>...</td>\n",
       "      <td>...</td>\n",
       "      <td>...</td>\n",
       "      <td>...</td>\n",
       "      <td>...</td>\n",
       "      <td>...</td>\n",
       "      <td>...</td>\n",
       "      <td>...</td>\n",
       "      <td>...</td>\n",
       "      <td>...</td>\n",
       "      <td>...</td>\n",
       "      <td>...</td>\n",
       "      <td>...</td>\n",
       "      <td>...</td>\n",
       "      <td>...</td>\n",
       "      <td>...</td>\n",
       "      <td>...</td>\n",
       "    </tr>\n",
       "    <tr>\n",
       "      <th>41995</th>\n",
       "      <td>0</td>\n",
       "      <td>0</td>\n",
       "      <td>0</td>\n",
       "      <td>0</td>\n",
       "      <td>0</td>\n",
       "      <td>0</td>\n",
       "      <td>0</td>\n",
       "      <td>0</td>\n",
       "      <td>0</td>\n",
       "      <td>0</td>\n",
       "      <td>...</td>\n",
       "      <td>0</td>\n",
       "      <td>0</td>\n",
       "      <td>0</td>\n",
       "      <td>0</td>\n",
       "      <td>0</td>\n",
       "      <td>0</td>\n",
       "      <td>0</td>\n",
       "      <td>0</td>\n",
       "      <td>0</td>\n",
       "      <td>0</td>\n",
       "    </tr>\n",
       "    <tr>\n",
       "      <th>41996</th>\n",
       "      <td>1</td>\n",
       "      <td>0</td>\n",
       "      <td>0</td>\n",
       "      <td>0</td>\n",
       "      <td>0</td>\n",
       "      <td>0</td>\n",
       "      <td>0</td>\n",
       "      <td>0</td>\n",
       "      <td>0</td>\n",
       "      <td>0</td>\n",
       "      <td>...</td>\n",
       "      <td>0</td>\n",
       "      <td>0</td>\n",
       "      <td>0</td>\n",
       "      <td>0</td>\n",
       "      <td>0</td>\n",
       "      <td>0</td>\n",
       "      <td>0</td>\n",
       "      <td>0</td>\n",
       "      <td>0</td>\n",
       "      <td>0</td>\n",
       "    </tr>\n",
       "    <tr>\n",
       "      <th>41997</th>\n",
       "      <td>7</td>\n",
       "      <td>0</td>\n",
       "      <td>0</td>\n",
       "      <td>0</td>\n",
       "      <td>0</td>\n",
       "      <td>0</td>\n",
       "      <td>0</td>\n",
       "      <td>0</td>\n",
       "      <td>0</td>\n",
       "      <td>0</td>\n",
       "      <td>...</td>\n",
       "      <td>0</td>\n",
       "      <td>0</td>\n",
       "      <td>0</td>\n",
       "      <td>0</td>\n",
       "      <td>0</td>\n",
       "      <td>0</td>\n",
       "      <td>0</td>\n",
       "      <td>0</td>\n",
       "      <td>0</td>\n",
       "      <td>0</td>\n",
       "    </tr>\n",
       "    <tr>\n",
       "      <th>41998</th>\n",
       "      <td>6</td>\n",
       "      <td>0</td>\n",
       "      <td>0</td>\n",
       "      <td>0</td>\n",
       "      <td>0</td>\n",
       "      <td>0</td>\n",
       "      <td>0</td>\n",
       "      <td>0</td>\n",
       "      <td>0</td>\n",
       "      <td>0</td>\n",
       "      <td>...</td>\n",
       "      <td>0</td>\n",
       "      <td>0</td>\n",
       "      <td>0</td>\n",
       "      <td>0</td>\n",
       "      <td>0</td>\n",
       "      <td>0</td>\n",
       "      <td>0</td>\n",
       "      <td>0</td>\n",
       "      <td>0</td>\n",
       "      <td>0</td>\n",
       "    </tr>\n",
       "    <tr>\n",
       "      <th>41999</th>\n",
       "      <td>9</td>\n",
       "      <td>0</td>\n",
       "      <td>0</td>\n",
       "      <td>0</td>\n",
       "      <td>0</td>\n",
       "      <td>0</td>\n",
       "      <td>0</td>\n",
       "      <td>0</td>\n",
       "      <td>0</td>\n",
       "      <td>0</td>\n",
       "      <td>...</td>\n",
       "      <td>0</td>\n",
       "      <td>0</td>\n",
       "      <td>0</td>\n",
       "      <td>0</td>\n",
       "      <td>0</td>\n",
       "      <td>0</td>\n",
       "      <td>0</td>\n",
       "      <td>0</td>\n",
       "      <td>0</td>\n",
       "      <td>0</td>\n",
       "    </tr>\n",
       "  </tbody>\n",
       "</table>\n",
       "<p>42000 rows × 785 columns</p>\n",
       "</div>"
      ],
      "text/plain": [
       "       label  pixel0  pixel1  pixel2  pixel3  pixel4  pixel5  pixel6  pixel7  \\\n",
       "0          1       0       0       0       0       0       0       0       0   \n",
       "1          0       0       0       0       0       0       0       0       0   \n",
       "2          1       0       0       0       0       0       0       0       0   \n",
       "3          4       0       0       0       0       0       0       0       0   \n",
       "4          0       0       0       0       0       0       0       0       0   \n",
       "...      ...     ...     ...     ...     ...     ...     ...     ...     ...   \n",
       "41995      0       0       0       0       0       0       0       0       0   \n",
       "41996      1       0       0       0       0       0       0       0       0   \n",
       "41997      7       0       0       0       0       0       0       0       0   \n",
       "41998      6       0       0       0       0       0       0       0       0   \n",
       "41999      9       0       0       0       0       0       0       0       0   \n",
       "\n",
       "       pixel8  ...  pixel774  pixel775  pixel776  pixel777  pixel778  \\\n",
       "0           0  ...         0         0         0         0         0   \n",
       "1           0  ...         0         0         0         0         0   \n",
       "2           0  ...         0         0         0         0         0   \n",
       "3           0  ...         0         0         0         0         0   \n",
       "4           0  ...         0         0         0         0         0   \n",
       "...       ...  ...       ...       ...       ...       ...       ...   \n",
       "41995       0  ...         0         0         0         0         0   \n",
       "41996       0  ...         0         0         0         0         0   \n",
       "41997       0  ...         0         0         0         0         0   \n",
       "41998       0  ...         0         0         0         0         0   \n",
       "41999       0  ...         0         0         0         0         0   \n",
       "\n",
       "       pixel779  pixel780  pixel781  pixel782  pixel783  \n",
       "0             0         0         0         0         0  \n",
       "1             0         0         0         0         0  \n",
       "2             0         0         0         0         0  \n",
       "3             0         0         0         0         0  \n",
       "4             0         0         0         0         0  \n",
       "...         ...       ...       ...       ...       ...  \n",
       "41995         0         0         0         0         0  \n",
       "41996         0         0         0         0         0  \n",
       "41997         0         0         0         0         0  \n",
       "41998         0         0         0         0         0  \n",
       "41999         0         0         0         0         0  \n",
       "\n",
       "[42000 rows x 785 columns]"
      ]
     },
     "execution_count": 16,
     "metadata": {},
     "output_type": "execute_result"
    }
   ],
   "source": [
    "data"
   ]
  },
  {
   "cell_type": "code",
   "execution_count": 17,
   "id": "822c1f3e",
   "metadata": {},
   "outputs": [],
   "source": [
    "data = np.array(data)\n",
    "m, n = data.shape\n",
    "# np.random.shuffle(data) # shuffle before splitting into dev and training sets\n",
    "\n",
    "data_dev = data[0:1000].T\n",
    "Y_dev = data_dev[0]\n",
    "X_dev = data_dev[1:n]\n",
    "X_dev = X_dev / 255.\n",
    "\n",
    "data_train = data[1000:m].T\n",
    "y_train = data_train[0]\n",
    "x_train = data_train[1:n]\n",
    "x_train = x_train / 255.\n",
    "_,m_train = x_train.shape"
   ]
  },
  {
   "cell_type": "code",
   "execution_count": 18,
   "id": "804a65da",
   "metadata": {},
   "outputs": [
    {
     "data": {
      "text/plain": [
       "array([[-0.21691893, -0.25696959,  0.07947826, ..., -0.17058069,\n",
       "         0.01077479, -0.28301285],\n",
       "       [-0.4305997 ,  0.31214392,  0.01098209, ..., -0.48159923,\n",
       "        -0.39819351,  0.28368819],\n",
       "       [ 0.26967978,  0.45014627,  0.44333023, ..., -0.46046248,\n",
       "        -0.15563943,  0.39791457],\n",
       "       ...,\n",
       "       [ 0.27472772,  0.25159598,  0.12423264, ...,  0.17479724,\n",
       "        -0.06126925,  0.37815645],\n",
       "       [ 0.23563571, -0.34386622, -0.05881579, ..., -0.35452673,\n",
       "        -0.05689248,  0.42465634],\n",
       "       [-0.16998145, -0.38378032,  0.49577114, ...,  0.40784472,\n",
       "         0.27592426,  0.42548441]])"
      ]
     },
     "execution_count": 18,
     "metadata": {},
     "output_type": "execute_result"
    }
   ],
   "source": [
    "np.random.rand(10, 784) - 0.5"
   ]
  },
  {
   "cell_type": "code",
   "execution_count": 19,
   "id": "e4197115",
   "metadata": {},
   "outputs": [
    {
     "data": {
      "text/plain": [
       "((784, 41000), (41000,))"
      ]
     },
     "execution_count": 19,
     "metadata": {},
     "output_type": "execute_result"
    }
   ],
   "source": [
    "x_train.shape, y_train.shape"
   ]
  },
  {
   "cell_type": "code",
   "execution_count": 20,
   "id": "5c202970",
   "metadata": {},
   "outputs": [],
   "source": [
    "def init_params(a,n_labels,x_size):\n",
    "    w1 = np.random.randn(a,x_size) - 0.5\n",
    "    b1 = np.random.randn(a,1) - 0.5\n",
    "    \n",
    "    \n",
    "    \n",
    "    w2 = np.random.randn(a,n_labels) - 0.5\n",
    "    b2 = np.random.randn(n_labels,1) - 0.5\n",
    "    \n",
    "    return w1, b1, w2, b2"
   ]
  },
  {
   "cell_type": "code",
   "execution_count": 21,
   "id": "fab7c771",
   "metadata": {},
   "outputs": [],
   "source": [
    "def init_param(n_hidden):\n",
    "    hidden_cells_size = 10\n",
    "    \n",
    "    W1 = np.random.rand(10, 784) - 0.5\n",
    "    b1 = np.random.rand(10, 1) - 0.5\n",
    "    \n",
    "    W2 = np.random.rand(hidden_cells_size, 10) - 0.5\n",
    "    b2 = np.random.rand(hidden_cells_size, 1) - 0.5\n",
    "        \n",
    "    hidden_weights = np.array([W2 for i in range(n_hidden)])\n",
    "    hidden_bias = np.array([b2 for i in range(n_hidden)])\n",
    "\n",
    "    W3 = np.random.rand(10, hidden_cells_size) - 0.5\n",
    "    b3 = np.random.rand(10, 1) - 0.5\n",
    "    \n",
    "    return W1, b1, hidden_weights, hidden_bias, W3, b3"
   ]
  },
  {
   "cell_type": "code",
   "execution_count": 22,
   "id": "597263b2",
   "metadata": {},
   "outputs": [],
   "source": [
    "def leaky_relu(z, alpha=0.01):\n",
    "    return np.where(z > 0, z, alpha * z)\n",
    "\n",
    "def deriv_leaky_relu(z, alpha=0.01):\n",
    "    return np.where(z > 0, 1, alpha)"
   ]
  },
  {
   "cell_type": "code",
   "execution_count": 23,
   "id": "339a63a2",
   "metadata": {},
   "outputs": [],
   "source": [
    "def relu(z):\n",
    "    return np.maximum(z,0)\n",
    "\n",
    "def softmax(Z):\n",
    "#     shift_x = x - np.max(x)\n",
    "#     exp_x = np.exp(shift_x)\n",
    "#     a = exp_x / np.sum(exp_x)\n",
    "#     return a\n",
    "    A = np.exp(Z) / sum(np.exp(Z))\n",
    "    return A\n"
   ]
  },
  {
   "cell_type": "code",
   "execution_count": 24,
   "id": "e84c2ac6",
   "metadata": {},
   "outputs": [],
   "source": [
    "def for_prop(x, w1, b1, hidden_weights, hidden_bias, w3, b3):\n",
    "    z1 = w1.dot(x) + b1\n",
    "    a1 = relu(z1)\n",
    "    \n",
    "    z2 = hidden_weights[0].dot(a1) + hidden_bias[0]\n",
    "    a2 = relu(z2)\n",
    "    \n",
    "    hidden_z_list = np.array([z2 for i in range(len(hidden_bias))])\n",
    "    hidden_a_list = np.array([a2 for i in range(len(hidden_bias))])\n",
    "    \n",
    "    for i in range(len(hidden_z_list)-1):\n",
    "        hidden_z_list[i+1] = hidden_weights[i+1].dot(hidden_a_list[i]) + hidden_bias[1+1]\n",
    "        hidden_a_list[i+1] = relu(hidden_z_list[i+1])\n",
    "    \n",
    "    z3 = w3.dot(hidden_a_list[-1]) + hidden_bias[-1]  # b3 is broadcast to match z3's shape\n",
    "    a3 = softmax(z3)\n",
    "    \n",
    "    return z1, a1, hidden_z_list, hidden_a_list, z3, a3"
   ]
  },
  {
   "cell_type": "code",
   "execution_count": 25,
   "id": "e173894b",
   "metadata": {},
   "outputs": [],
   "source": [
    "def one_hot(y):\n",
    "    one_hot_y = np.zeros((y.size, y.max()+1))\n",
    "    one_hot_y[np.arange(y.size), y] = 1\n",
    "    one_hot_y = one_hot_y.T\n",
    "    return one_hot_y"
   ]
  },
  {
   "cell_type": "code",
   "execution_count": 26,
   "id": "16e23d1b",
   "metadata": {},
   "outputs": [],
   "source": [
    "def deriv_relu(z):\n",
    "    return z>0"
   ]
  },
  {
   "cell_type": "code",
   "execution_count": 27,
   "id": "b059fa54",
   "metadata": {},
   "outputs": [],
   "source": [
    "W1, b1, hidden_weights, hidden_bias, W3, b3 = init_param(6)"
   ]
  },
  {
   "cell_type": "code",
   "execution_count": 28,
   "id": "4e72e6f3",
   "metadata": {},
   "outputs": [],
   "source": [
    "z1, a1, hidden_z_list, hidden_a_list, z3, a3 = for_prop(x_train, W1, b1, hidden_weights, hidden_bias, W3, b3)"
   ]
  },
  {
   "cell_type": "code",
   "execution_count": 30,
   "id": "7a8a093d",
   "metadata": {},
   "outputs": [
    {
     "data": {
      "text/plain": [
       "(10, 41000)"
      ]
     },
     "execution_count": 30,
     "metadata": {},
     "output_type": "execute_result"
    }
   ],
   "source": [
    "a3.shape"
   ]
  },
  {
   "cell_type": "code",
   "execution_count": 9,
   "id": "079484ae",
   "metadata": {},
   "outputs": [],
   "source": [
    "def back_prop(z1,a1,hidden_z_list,hidden_a_list,z3,a3,w1,hidden_weights,w3,x,y):\n",
    "    one_hot_y = one_hot(y)\n",
    "\n",
    "    dz3 = a3 - one_hot_y\n",
    "    dw3 = 1/m * dz3.dot(hidden_a_list[-1].T)\n",
    "    db3 = 1/m * np.sum(dz3)\n",
    "\n",
    "    dz2 = W3.T.dot(dz3) * deriv_relu(hidden_z_list[-1])\n",
    "    dw2 = 1/m * dz2.dot(a1.T)\n",
    "    db2 = 1/m * np.sum(dz2)\n",
    "\n",
    "    hidden_dz = np.array([dz2 for i in range(len(hidden_z_list))])\n",
    "    hidden_dw = np.array([dw2 for i in range(len(hidden_z_list))])\n",
    "    hidden_db = np.array([db2 for i in range(len(hidden_z_list))])\n",
    "\n",
    "    for i in range(1,len(hidden_z_list)):\n",
    "        hidden_dz[-i] = hidden_weights[-i+1].T.dot(hidden_dz[-1+1]) * deriv_relu(hidden_z_list[-i])\n",
    "        hidden_dw[-i] = 1/m * hidden_dz[-i].dot(hidden_a_list[-i-1].T)\n",
    "        hidden_db[-i] = 1/m * np.sum(hidden_dz[-i])\n",
    "\n",
    "    dz1 = hidden_weights[0].T.dot(hidden_dz[0]) * deriv_relu(z1)\n",
    "    dw1 = 1/m * dz1.dot(x.T)\n",
    "    db1 = 1/m * np.sum(dz1)\n",
    "    \n",
    "    return dw1, db1, hidden_dw, hidden_db, dw3, db3\n",
    "    \n",
    "    "
   ]
  },
  {
   "cell_type": "code",
   "execution_count": 10,
   "id": "4e1e5a6b",
   "metadata": {},
   "outputs": [
    {
     "ename": "NameError",
     "evalue": "name 'z1' is not defined",
     "output_type": "error",
     "traceback": [
      "\u001b[1;31m---------------------------------------------------------------------------\u001b[0m",
      "\u001b[1;31mNameError\u001b[0m                                 Traceback (most recent call last)",
      "Cell \u001b[1;32mIn[10], line 1\u001b[0m\n\u001b[1;32m----> 1\u001b[0m dw1, db1, hidden_dw, hidden_db, dw3, db3 \u001b[38;5;241m=\u001b[39m back_prop(z1, a1, hidden_z_list, hidden_a_list, z3, a3, W1, hidden_weights, W3, x_train, y_train)\n",
      "\u001b[1;31mNameError\u001b[0m: name 'z1' is not defined"
     ]
    }
   ],
   "source": [
    "dw1, db1, hidden_dw, hidden_db, dw3, db3 = back_prop(z1, a1, hidden_z_list, hidden_a_list, z3, a3, W1, hidden_weights, W3, x_train, y_train)"
   ]
  },
  {
   "cell_type": "code",
   "execution_count": 18,
   "id": "39b52c9f",
   "metadata": {},
   "outputs": [],
   "source": [
    "def update_params(w1,b1,hidden_weights,hidden_bias,w3,b3,dw1, db1, hidden_dw, hidden_db, dw3, db3,lr):\n",
    "    w1 = w1 - lr*dw1\n",
    "    b1 = b1 - lr*db1\n",
    "    for i in range(len(hidden_bias)):\n",
    "        hidden_weights[i,:] = hidden_weights[i,:] - lr * hidden_dw[i]\n",
    "        hidden_bias[i,:] = hidden_bias[i,:] - lr * hidden_db[i]\n",
    "    \n",
    "    w3 = w3 - lr*dw3\n",
    "    b3 = b3 - lr*db3\n",
    "\n",
    "    return w1, b1, hidden_weights, hidden_bias, w3, b3"
   ]
  },
  {
   "cell_type": "code",
   "execution_count": 19,
   "id": "fab367ca",
   "metadata": {},
   "outputs": [],
   "source": [
    "def get_pred(a2):\n",
    "    return np.argmax(a2,0)\n",
    "\n",
    "def get_acc(pred,y):\n",
    "    return np.sum(y == pred)/y.size"
   ]
  },
  {
   "cell_type": "code",
   "execution_count": 20,
   "id": "ab289f95",
   "metadata": {},
   "outputs": [],
   "source": [
    "def grad_desc(x,y,hidden_layers,epochs,lr):\n",
    "    x_size = x.shape[0]\n",
    "    n_labels = np.unique(y).shape[0]\n",
    "    a = 10\n",
    "    \n",
    "    \n",
    "    w1, b1, hidden_weights, hidden_bias, w3, b3 = init_param(hidden_layers)\n",
    "    \n",
    "    for i in range(epochs):\n",
    "        z1, a1, hidden_z_list, hidden_a_list, z3, a3 = for_prop(x, w1, b1, hidden_weights, hidden_bias, w3, b3)\n",
    "        dw1, db1, hidden_dw, hidden_db, dw3, db3 = back_prop(z1, a1, hidden_z_list, hidden_a_list, z3, a3,w1,hidden_weights,w3,x,y)\n",
    "        w1, b1, hidden_weights, hidden_bias, w3, b3 = update_params(w1, b1, hidden_weights, hidden_bias, w3, b3,dw1, db1, hidden_dw, hidden_db, dw3, db3,lr)\n",
    "        \n",
    "        print(f'Accuracy of {i}th iteration is {get_acc(get_pred(a3),y)}')\n",
    "    \n",
    "    return w1, b1, hidden_weights, hidden_bias, w3, b3\n",
    "#     return x,get_pred(a2)\n",
    "\n",
    "    "
   ]
  },
  {
   "cell_type": "code",
   "execution_count": 21,
   "id": "89b38103",
   "metadata": {
    "scrolled": true
   },
   "outputs": [
    {
     "name": "stdout",
     "output_type": "stream",
     "text": [
      "Accuracy of 0th iteration is 0.10848780487804878\n",
      "Accuracy of 1th iteration is 0.10851219512195122\n",
      "Accuracy of 2th iteration is 0.10848780487804878\n",
      "Accuracy of 3th iteration is 0.10848780487804878\n",
      "Accuracy of 4th iteration is 0.10848780487804878\n",
      "Accuracy of 5th iteration is 0.1085609756097561\n",
      "Accuracy of 6th iteration is 0.10836585365853658\n",
      "Accuracy of 7th iteration is 0.1083170731707317\n",
      "Accuracy of 8th iteration is 0.10814634146341463\n",
      "Accuracy of 9th iteration is 0.10804878048780488\n"
     ]
    }
   ],
   "source": [
    "upd_W1, upd_b1, upd_hidden_weights, upd_hidden_bias, upd_W3, upd_b3 = grad_desc(x_train, y_train,6, 10, 0.01)"
   ]
  },
  {
   "cell_type": "code",
   "execution_count": 22,
   "id": "16dd65b0",
   "metadata": {},
   "outputs": [],
   "source": [
    "def make_predictions(x, w1, b1, w2, b2, w3, b3):\n",
    "    _,_,_, _, _, A3 = for_prop(x, w1, b1, w2, b2, w3, b3)\n",
    "    predictions = get_pred(A3)\n",
    "    return predictions"
   ]
  },
  {
   "cell_type": "code",
   "execution_count": 23,
   "id": "88cc7fbe",
   "metadata": {},
   "outputs": [],
   "source": [
    "def test_prediction(index, w1, b1, w2, b2, w3, b3):\n",
    "    current_image = x_train[:, index, None]\n",
    "    prediction = make_predictions(x_train[:, index, None], w1, b1, w2, b2, w3, b3)\n",
    "    label = y_train[index]\n",
    "    \n",
    "    print(\"Prediction: \", prediction)\n",
    "    print(\"Label: \", label)\n",
    "    \n",
    "    current_image = current_image.reshape((28, 28)) * 255\n",
    "    plt.gray()\n",
    "    plt.imshow(current_image, interpolation='nearest')\n",
    "    plt.show()\n",
    "    \n",
    "    return prediction"
   ]
  },
  {
   "cell_type": "code",
   "execution_count": 25,
   "id": "4fd5d455",
   "metadata": {},
   "outputs": [
    {
     "name": "stdout",
     "output_type": "stream",
     "text": [
      "Prediction:  [9]\n",
      "Label:  3\n"
     ]
    },
    {
     "data": {
      "image/png": "[encoded data removed]",
      "text/plain": [
       "<Figure size 640x480 with 1 Axes>"
      ]
     },
     "metadata": {},
     "output_type": "display_data"
    }
   ],
   "source": [
    "pred = test_prediction(np.random.randint(x_train.shape[1]), upd_W1, upd_b1, upd_hidden_weights, upd_hidden_bias, upd_W3, upd_b3)\n"
   ]
  },
  {
   "cell_type": "code",
   "execution_count": 248,
   "id": "ca1f469a",
   "metadata": {},
   "outputs": [
    {
     "name": "stdout",
     "output_type": "stream",
     "text": [
      "Prediction:  [5]\n",
      "Label:  4\n"
     ]
    },
    {
     "data": {
      "image/png": "[encoded data removed]",
      "text/plain": [
       "<Figure size 640x480 with 1 Axes>"
      ]
     },
     "metadata": {},
     "output_type": "display_data"
    },
    {
     "data": {
      "text/plain": [
       "array([5], dtype=int64)"
      ]
     },
     "execution_count": 248,
     "metadata": {},
     "output_type": "execute_result"
    }
   ],
   "source": [
    "test_prediction(243, W1, b1, W2, b2, W3, b3)\n"
   ]
  },
  {
   "cell_type": "code",
   "execution_count": null,
   "id": "da595230",
   "metadata": {},
   "outputs": [],
   "source": [
    "m,n = data.shape"
   ]
  },
  {
   "cell_type": "code",
   "execution_count": null,
   "id": "3f7aaf9e",
   "metadata": {},
   "outputs": [],
   "source": [
    "m,n"
   ]
  },
  {
   "cell_type": "code",
   "execution_count": null,
   "id": "74c36b5f",
   "metadata": {},
   "outputs": [],
   "source": [
    "get_acc"
   ]
  }
 ],
 "metadata": {
  "kernelspec": {
   "display_name": "Python 3 (ipykernel)",
   "language": "python",
   "name": "python3"
  },
  "language_info": {
   "codemirror_mode": {
    "name": "ipython",
    "version": 3
   },
   "file_extension": ".py",
   "mimetype": "text/x-python",
   "name": "python",
   "nbconvert_exporter": "python",
   "pygments_lexer": "ipython3",
   "version": "3.11.3"
  }
 },
 "nbformat": 4,
 "nbformat_minor": 5
}
